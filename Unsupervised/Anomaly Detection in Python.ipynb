{
 "cells": [
  {
   "cell_type": "markdown",
   "metadata": {},
   "source": [
    "# Introduction to Anomaly Detection in Python"
   ]
  },
  {
   "cell_type": "code",
   "execution_count": 120,
   "metadata": {},
   "outputs": [],
   "source": [
    "# Import the necessary packages\n",
    "import pandas as pd\n",
    "import numpy as np\n",
    "import matplotlib.pyplot as plt\n",
    "%matplotlib inline"
   ]
  },
  {
   "cell_type": "code",
   "execution_count": 121,
   "metadata": {},
   "outputs": [],
   "source": [
    "# it will be used only 1st time\n",
    "\n",
    "# pip install Faker"
   ]
  },
  {
   "cell_type": "code",
   "execution_count": 122,
   "metadata": {},
   "outputs": [],
   "source": [
    "# Import Faker\n",
    "from faker import Faker\n",
    "fake = Faker()"
   ]
  },
  {
   "cell_type": "code",
   "execution_count": 123,
   "metadata": {},
   "outputs": [],
   "source": [
    "# To ensure the results are reproducible\n",
    "fake.seed(4321)\n",
    "\n",
    "names_list = []\n",
    "\n",
    "fake = Faker()\n",
    "for _ in range(100):\n",
    "  names_list.append(fake.name())"
   ]
  },
  {
   "cell_type": "code",
   "execution_count": 124,
   "metadata": {},
   "outputs": [],
   "source": [
    "# To ensure the results are reproducible\n",
    "np.random.seed(7)\n",
    "\n",
    "salaries = []\n",
    "for _ in range(100):\n",
    "    salary = np.random.randint(1000,2500)\n",
    "    salaries.append(salary)\n"
   ]
  },
  {
   "cell_type": "code",
   "execution_count": 125,
   "metadata": {},
   "outputs": [],
   "source": [
    "# Create pandas DataFrame\n",
    "salary_df = pd.DataFrame(\n",
    "    {'Person': names_list,\n",
    "     'Salary (in USD)': salaries\n",
    "    })"
   ]
  },
  {
   "cell_type": "code",
   "execution_count": 126,
   "metadata": {},
   "outputs": [
    {
     "data": {
      "text/plain": [
       "(100, 2)"
      ]
     },
     "execution_count": 126,
     "metadata": {},
     "output_type": "execute_result"
    }
   ],
   "source": [
    "salary_df.shape"
   ]
  },
  {
   "cell_type": "code",
   "execution_count": 127,
   "metadata": {},
   "outputs": [
    {
     "name": "stdout",
     "output_type": "stream",
     "text": [
      "              Person  Salary (in USD)\n",
      "0        Jason Brown             1175\n",
      "1        Jacob Stein             2220\n",
      "2         Cody Brown             1537\n",
      "3      Larry Morales             1502\n",
      "4  Jessica Hendricks             1211\n"
     ]
    }
   ],
   "source": [
    "# Print a subsection of the DataFrame\n",
    "print(salary_df.head())"
   ]
  },
  {
   "cell_type": "code",
   "execution_count": 128,
   "metadata": {},
   "outputs": [
    {
     "data": {
      "text/html": [
       "<div>\n",
       "<style scoped>\n",
       "    .dataframe tbody tr th:only-of-type {\n",
       "        vertical-align: middle;\n",
       "    }\n",
       "\n",
       "    .dataframe tbody tr th {\n",
       "        vertical-align: top;\n",
       "    }\n",
       "\n",
       "    .dataframe thead th {\n",
       "        text-align: right;\n",
       "    }\n",
       "</style>\n",
       "<table border=\"1\" class=\"dataframe\">\n",
       "  <thead>\n",
       "    <tr style=\"text-align: right;\">\n",
       "      <th></th>\n",
       "      <th>Salary (in USD)</th>\n",
       "    </tr>\n",
       "  </thead>\n",
       "  <tbody>\n",
       "    <tr>\n",
       "      <th>count</th>\n",
       "      <td>100.000000</td>\n",
       "    </tr>\n",
       "    <tr>\n",
       "      <th>mean</th>\n",
       "      <td>1784.050000</td>\n",
       "    </tr>\n",
       "    <tr>\n",
       "      <th>std</th>\n",
       "      <td>427.311123</td>\n",
       "    </tr>\n",
       "    <tr>\n",
       "      <th>min</th>\n",
       "      <td>1021.000000</td>\n",
       "    </tr>\n",
       "    <tr>\n",
       "      <th>25%</th>\n",
       "      <td>1398.250000</td>\n",
       "    </tr>\n",
       "    <tr>\n",
       "      <th>50%</th>\n",
       "      <td>1785.500000</td>\n",
       "    </tr>\n",
       "    <tr>\n",
       "      <th>75%</th>\n",
       "      <td>2155.750000</td>\n",
       "    </tr>\n",
       "    <tr>\n",
       "      <th>max</th>\n",
       "      <td>2498.000000</td>\n",
       "    </tr>\n",
       "  </tbody>\n",
       "</table>\n",
       "</div>"
      ],
      "text/plain": [
       "       Salary (in USD)\n",
       "count       100.000000\n",
       "mean       1784.050000\n",
       "std         427.311123\n",
       "min        1021.000000\n",
       "25%        1398.250000\n",
       "50%        1785.500000\n",
       "75%        2155.750000\n",
       "max        2498.000000"
      ]
     },
     "execution_count": 128,
     "metadata": {},
     "output_type": "execute_result"
    }
   ],
   "source": [
    "salary_df.describe()"
   ]
  },
  {
   "cell_type": "code",
   "execution_count": 129,
   "metadata": {},
   "outputs": [],
   "source": [
    "salary_df.at[16, 'Salary (in USD)'] = 23\n",
    "salary_df.at[65, 'Salary (in USD)'] = 17"
   ]
  },
  {
   "cell_type": "code",
   "execution_count": 130,
   "metadata": {},
   "outputs": [
    {
     "name": "stdout",
     "output_type": "stream",
     "text": [
      "Person             Miss Amanda Harris MD\n",
      "Salary (in USD)                       23\n",
      "Name: 16, dtype: object\n",
      "Person             Joyce Bishop\n",
      "Salary (in USD)              17\n",
      "Name: 65, dtype: object\n"
     ]
    }
   ],
   "source": [
    "# Verify if the salaries were changed\n",
    "print(salary_df.loc[16])\n",
    "print(salary_df.loc[65])"
   ]
  },
  {
   "cell_type": "code",
   "execution_count": 131,
   "metadata": {},
   "outputs": [
    {
     "data": {
      "image/png": "[encoded data removed]",
      "text/plain": [
       "<Figure size 432x288 with 1 Axes>"
      ]
     },
     "metadata": {
      "needs_background": "light"
     },
     "output_type": "display_data"
    }
   ],
   "source": [
    "# Generate a Boxplot\n",
    "salary_df['Salary (in USD)'].plot(kind='box')\n",
    "plt.show()"
   ]
  },
  {
   "cell_type": "code",
   "execution_count": 148,
   "metadata": {},
   "outputs": [
    {
     "data": {
      "image/png": "[encoded data removed]",
      "text/plain": [
       "<Figure size 432x288 with 1 Axes>"
      ]
     },
     "metadata": {
      "needs_background": "light"
     },
     "output_type": "display_data"
    }
   ],
   "source": [
    "N = 100\n",
    "colors = np.random.rand(N)\n",
    "area = (20 * np.random.rand(N))**2  # 0 to 15 point radii\n",
    "\n",
    "plt.scatter(salary_raw, np.arange(0,100), s=area, c=colors, alpha=0.5)\n",
    "plt.show()\n"
   ]
  },
  {
   "cell_type": "code",
   "execution_count": 132,
   "metadata": {},
   "outputs": [
    {
     "data": {
      "image/png": "[encoded data removed]",
      "text/plain": [
       "<Figure size 432x288 with 1 Axes>"
      ]
     },
     "metadata": {
      "needs_background": "light"
     },
     "output_type": "display_data"
    }
   ],
   "source": [
    "# Generate a Histogram plot\n",
    "salary_df['Salary (in USD)'].plot(kind='hist')\n",
    "plt.show()"
   ]
  },
  {
   "cell_type": "code",
   "execution_count": 133,
   "metadata": {},
   "outputs": [
    {
     "name": "stdout",
     "output_type": "stream",
     "text": [
      "Minimum salary 17\n",
      "Maximum salary 2498\n"
     ]
    }
   ],
   "source": [
    "# Minimum and maximum salaries\n",
    "print('Minimum salary ' + str(salary_df['Salary (in USD)'].min()))\n",
    "print('Maximum salary ' + str(salary_df['Salary (in USD)'].max()))"
   ]
  },
  {
   "cell_type": "code",
   "execution_count": 29,
   "metadata": {},
   "outputs": [],
   "source": [
    "# Convert the salary values to a numpy array\n",
    "salary_raw = salary_df['Salary (in USD)'].values"
   ]
  },
  {
   "cell_type": "code",
   "execution_count": 30,
   "metadata": {},
   "outputs": [
    {
     "data": {
      "text/plain": [
       "array([1175, 2220, 1537, 1502, 1211, 1919, 2372, 2209, 2422, 1535, 1345,\n",
       "       1366, 1554, 1730, 1904, 2191,   23, 2456, 1391, 1940, 2099, 1823,\n",
       "       1250, 2030, 2468, 2068, 2349, 2176, 1183, 1949, 2136, 1763, 2213,\n",
       "       1290, 1312, 1201, 2486, 1550, 1772, 1494, 2161, 2219, 2096, 1944,\n",
       "       1257, 1400, 2398, 2373, 1940, 1604, 1764, 1279, 1745, 1803, 2472,\n",
       "       2341, 2415, 2175, 1092, 1759, 2248, 1356, 1931, 1481, 1579,   17,\n",
       "       1481, 2043, 1923, 1787, 1033, 2147, 2310, 1741, 1989, 2439, 2154,\n",
       "       2107, 1402, 1021, 1203, 1047, 1784, 1524, 1349, 1107, 1393, 1844,\n",
       "       1622, 1654, 1636, 1276, 1309, 1827, 1035, 1260, 1456, 2498, 2007,\n",
       "       2239], dtype=int64)"
      ]
     },
     "execution_count": 30,
     "metadata": {},
     "output_type": "execute_result"
    }
   ],
   "source": [
    "salary_raw"
   ]
  },
  {
   "cell_type": "code",
   "execution_count": 31,
   "metadata": {},
   "outputs": [],
   "source": [
    "# For compatibility with the SciPy implementation\n",
    "salary_raw = salary_raw.reshape(-1, 1)\n",
    "salary_raw = salary_raw.astype('float64')"
   ]
  },
  {
   "cell_type": "code",
   "execution_count": 32,
   "metadata": {},
   "outputs": [
    {
     "data": {
      "text/plain": [
       "array([[1175.],\n",
       "       [2220.],\n",
       "       [1537.],\n",
       "       [1502.],\n",
       "       [1211.],\n",
       "       [1919.],\n",
       "       [2372.],\n",
       "       [2209.],\n",
       "       [2422.],\n",
       "       [1535.],\n",
       "       [1345.],\n",
       "       [1366.],\n",
       "       [1554.],\n",
       "       [1730.],\n",
       "       [1904.],\n",
       "       [2191.],\n",
       "       [  23.],\n",
       "       [2456.],\n",
       "       [1391.],\n",
       "       [1940.],\n",
       "       [2099.],\n",
       "       [1823.],\n",
       "       [1250.],\n",
       "       [2030.],\n",
       "       [2468.],\n",
       "       [2068.],\n",
       "       [2349.],\n",
       "       [2176.],\n",
       "       [1183.],\n",
       "       [1949.],\n",
       "       [2136.],\n",
       "       [1763.],\n",
       "       [2213.],\n",
       "       [1290.],\n",
       "       [1312.],\n",
       "       [1201.],\n",
       "       [2486.],\n",
       "       [1550.],\n",
       "       [1772.],\n",
       "       [1494.],\n",
       "       [2161.],\n",
       "       [2219.],\n",
       "       [2096.],\n",
       "       [1944.],\n",
       "       [1257.],\n",
       "       [1400.],\n",
       "       [2398.],\n",
       "       [2373.],\n",
       "       [1940.],\n",
       "       [1604.],\n",
       "       [1764.],\n",
       "       [1279.],\n",
       "       [1745.],\n",
       "       [1803.],\n",
       "       [2472.],\n",
       "       [2341.],\n",
       "       [2415.],\n",
       "       [2175.],\n",
       "       [1092.],\n",
       "       [1759.],\n",
       "       [2248.],\n",
       "       [1356.],\n",
       "       [1931.],\n",
       "       [1481.],\n",
       "       [1579.],\n",
       "       [  17.],\n",
       "       [1481.],\n",
       "       [2043.],\n",
       "       [1923.],\n",
       "       [1787.],\n",
       "       [1033.],\n",
       "       [2147.],\n",
       "       [2310.],\n",
       "       [1741.],\n",
       "       [1989.],\n",
       "       [2439.],\n",
       "       [2154.],\n",
       "       [2107.],\n",
       "       [1402.],\n",
       "       [1021.],\n",
       "       [1203.],\n",
       "       [1047.],\n",
       "       [1784.],\n",
       "       [1524.],\n",
       "       [1349.],\n",
       "       [1107.],\n",
       "       [1393.],\n",
       "       [1844.],\n",
       "       [1622.],\n",
       "       [1654.],\n",
       "       [1636.],\n",
       "       [1276.],\n",
       "       [1309.],\n",
       "       [1827.],\n",
       "       [1035.],\n",
       "       [1260.],\n",
       "       [1456.],\n",
       "       [2498.],\n",
       "       [2007.],\n",
       "       [2239.]])"
      ]
     },
     "execution_count": 32,
     "metadata": {},
     "output_type": "execute_result"
    }
   ],
   "source": [
    "salary_raw"
   ]
  },
  {
   "cell_type": "code",
   "execution_count": 90,
   "metadata": {},
   "outputs": [],
   "source": [
    "# Import kmeans from SciPy\n",
    "from scipy.cluster.vq import kmeans, vq\n",
    "from numpy import array\n",
    "from scipy.cluster.vq import vq\n",
    "from pylab import plot,show"
   ]
  },
  {
   "cell_type": "code",
   "execution_count": 117,
   "metadata": {},
   "outputs": [],
   "source": [
    "# Specify the data and the number of clusters to kmeans()\n",
    "\n",
    "# computing K-Means with K = 4 (4 clusters)\n",
    "centroids,_ = kmeans(salary_raw, 4)\n",
    "# assign each sample to a cluster\n",
    "idx,_ = vq(salary_raw,centroids)\n"
   ]
  },
  {
   "cell_type": "code",
   "execution_count": 118,
   "metadata": {},
   "outputs": [
    {
     "name": "stdout",
     "output_type": "stream",
     "text": [
      "[2 0 1 2 2 1 0 0 0 1 2 2 1 1 1 0 3 0 2 1 0 1 2 0 0 0 0 0 2 1 0 1 0 2 2 2 0\n",
      " 1 1 2 0 0 0 1 2 2 0 0 1 1 1 2 1 1 0 0 0 0 2 1 0 2 1 2 1 3 2 0 1 1 2 0 0 1\n",
      " 1 0 0 0 2 2 2 2 1 2 2 2 2 1 1 1 1 2 2 1 2 2 2 0 1 0]\n"
     ]
    }
   ],
   "source": [
    "# check clusters of observation\n",
    "print(idx)"
   ]
  },
  {
   "cell_type": "code",
   "execution_count": 149,
   "metadata": {},
   "outputs": [
    {
     "data": {
      "image/png": "[encoded data removed]",
      "text/plain": [
       "<Figure size 432x288 with 1 Axes>"
      ]
     },
     "metadata": {
      "needs_background": "light"
     },
     "output_type": "display_data"
    }
   ],
   "source": [
    "N = 100\n",
    "colors1 = np.random.rand(N)\n",
    "area = (20 * np.random.rand(N))**2  # 0 to 15 point radii\n",
    "\n",
    "plt.scatter(salary_raw, np.arange(0,100), c=idx, s=area, alpha=0.5)\n",
    "plt.xlabel('Salaries in (USD)')\n",
    "plt.ylabel('Indices')\n",
    "plt.show()"
   ]
  }
 ],
 "metadata": {
  "kernelspec": {
   "display_name": "Python 3",
   "language": "python",
   "name": "python3"
  },
  "language_info": {
   "codemirror_mode": {
    "name": "ipython",
    "version": 3
   },
   "file_extension": ".py",
   "mimetype": "text/x-python",
   "name": "python",
   "nbconvert_exporter": "python",
   "pygments_lexer": "ipython3",
   "version": "3.7.3"
  }
 },
 "nbformat": 4,
 "nbformat_minor": 2
}
